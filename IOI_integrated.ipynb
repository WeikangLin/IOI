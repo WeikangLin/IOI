{
 "cells": [
  {
   "cell_type": "markdown",
   "metadata": {},
   "source": [
    "## Integrated IOI notebook: 1.Calculate IOIs for given the summary statistics of chains produced by Getdist. 2. Bayesian Interpretation framework to calculate the summary statistics of the physical inconsistency given an obtained value of the two-dataset IOI"
   ]
  },
  {
   "cell_type": "code",
   "execution_count": 1,
   "metadata": {},
   "outputs": [],
   "source": [
    "import numpy as np\n",
    "from scipy.interpolate import interp1d\n",
    "from IPython.display import display, Math, Latex\n",
    "import pyioi\n",
    "\n",
    "My_IOI = pyioi.IOI()\n"
   ]
  },
  {
   "cell_type": "code",
   "execution_count": 2,
   "metadata": {},
   "outputs": [
    {
     "name": "stdout",
     "output_type": "stream",
     "text": [
      "10 files found, 5 experiments matched.\n",
      "92 parameters in total, 45 common parameters, 5 selected.\n",
      "                     SZ_SN_BBN  hiTT_lowTEB  hiEE_lowTEB  hiTE_lowTEB  \\\n",
      "SZ_SN_BBN             0.000000     0.659781     0.915810     0.397096   \n",
      "hiTT_lowTEB           0.659781     0.000000     2.510058     0.886372   \n",
      "hiEE_lowTEB           0.915810     2.510058     0.000000     1.760540   \n",
      "hiTE_lowTEB           0.397096     0.886372     1.760540     0.000000   \n",
      "CMBlens_lTEB_SN_BBN   0.313993     2.361586     1.199345     0.942753   \n",
      "\n",
      "                     CMBlens_lTEB_SN_BBN  \n",
      "SZ_SN_BBN                       0.313993  \n",
      "hiTT_lowTEB                     2.361586  \n",
      "hiEE_lowTEB                     1.199345  \n",
      "hiTE_lowTEB                     0.942753  \n",
      "CMBlens_lTEB_SN_BBN             0.000000  \n",
      "\n",
      "\n",
      "Multi-IOI\t 2.1934443421661856\n",
      "\n",
      "                        Remain   Outlier\n",
      "hiTT_lowTEB          1.493483  2.496645\n",
      "hiEE_lowTEB          1.673098  2.137414\n",
      "CMBlens_lTEB_SN_BBN  1.871817  1.739977\n",
      "SZ_SN_BBN            2.499679  0.484252\n",
      "hiTE_lowTEB          2.533840  0.415930\n"
     ]
    }
   ],
   "source": [
    "Input_Path='./batch'\n",
    "params=['omegabh2', 'omegach2', 'theta','ns','sigma8']\n",
    "\n",
    "### calculate two- and multi-experiment IOIs and the outlier indices and return the two-experiment IOIs\n",
    "twoIOIs = My_IOI.IOI_func(fn=Input_Path, out=None, params=params) "
   ]
  },
  {
   "cell_type": "code",
   "execution_count": 3,
   "metadata": {},
   "outputs": [
    {
     "data": {
      "text/latex": [
       "Probability for $\\beta$>1 given IOI=2.36 is: 58.31%"
      ],
      "text/plain": [
       "<IPython.core.display.Latex object>"
      ]
     },
     "metadata": {},
     "output_type": "display_data"
    },
    {
     "name": "stdout",
     "output_type": "stream",
     "text": [
      "No strong evidence for a substantial physical inconsistency.\n"
     ]
    },
    {
     "data": {
      "text/latex": [
       "$\\displaystyle \\beta =1.2\\,_{-0.83}^{+ 1.10}~(68\\%)~~\\big[~_{-1.16}^{+ 2.20}~(95\\%)~\\big]$"
      ],
      "text/plain": [
       "<IPython.core.display.Math object>"
      ]
     },
     "metadata": {},
     "output_type": "display_data"
    },
    {
     "name": "stdout",
     "output_type": "stream",
     "text": [
      "Moderate inconsistency\n"
     ]
    }
   ],
   "source": [
    "###### Input of the Bayesian Interpretation:\n",
    "N_dim = len(params)  # number of the common parameters\n",
    "IOI = twoIOIs['hiTT_lowTEB']['CMBlens_lTEB_SN_BBN']  # the obtained value of IOI for given experiments\n",
    "\n",
    "alpha=0.15  # Suggest to set alpha=0.15\n",
    "###### End of the input\n",
    "    \n",
    "\n",
    "P_bless1, median, low1, up1, low2, up2 = My_IOI.create_summary_stat(IOI,N_dim)\n",
    "display(Latex(\"Probability for $\\\\beta$>1 given IOI=\"+str(round(IOI,2))+\n",
    "              \" is: \"+str(np.round((1-P_bless1)*100,2))+\"%\"))\n",
    "if P_bless1>alpha:\n",
    "    print(\"No strong evidence for a substantial physical inconsistency.\")\n",
    "#else:\n",
    "txt=\"\\\\beta ={0:1.1f}\\,_{{{1:1.2f}}}^{{+{2: 1.2f}}}~(68\\%)~~\\\\big[~_{{{3: 1.2f}}}^{{+{4: .2f}}}~(95\\%)~\\\\big]\"\n",
    "txt=txt.format(median, low1, up1, low2, up2)\n",
    "display(Math(txt))\n",
    "My_IOI.print_ranking(median, low1, up1)        "
   ]
  },
  {
   "cell_type": "code",
   "execution_count": null,
   "metadata": {},
   "outputs": [],
   "source": []
  },
  {
   "cell_type": "code",
   "execution_count": null,
   "metadata": {},
   "outputs": [],
   "source": []
  }
 ],
 "metadata": {
  "kernelspec": {
   "display_name": "Python 3",
   "language": "python",
   "name": "python3"
  },
  "language_info": {
   "codemirror_mode": {
    "name": "ipython",
    "version": 3
   },
   "file_extension": ".py",
   "mimetype": "text/x-python",
   "name": "python",
   "nbconvert_exporter": "python",
   "pygments_lexer": "ipython3",
   "version": "3.8.3"
  }
 },
 "nbformat": 4,
 "nbformat_minor": 4
}
