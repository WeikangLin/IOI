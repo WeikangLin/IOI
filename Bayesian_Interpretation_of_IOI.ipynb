{
 "cells": [
  {
   "cell_type": "markdown",
   "metadata": {},
   "source": [
    "# Bayesian Interpretation framework to calculate the summary statistics of the physical inconsistency given an obtained value of the two-dataset IOI"
   ]
  },
  {
   "cell_type": "code",
   "execution_count": 1,
   "metadata": {},
   "outputs": [],
   "source": [
    "import numpy as np\n",
    "from scipy.interpolate import interp1d\n",
    "from IPython.display import display, Math, Latex\n",
    "\n",
    "# Below is to load the precalculated statistics for interpolation:\n",
    "def create_summary_stat(IOI,N_dim):\n",
    "    b_summary = np.loadtxt('./Interpolate/b_summary_'+str(N_dim)+'.txt')\n",
    "    f_P_NotSignificant=interp1d(b_summary[:,0],b_summary[:,1])   # Probability for beta<1 as function of IOI\n",
    "    f_b_median=interp1d(b_summary[:,0],b_summary[:,2])           # Median of beta as function of IOI\n",
    "    f_b_low1=interp1d(b_summary[:,0],b_summary[:,3])             # 68%-percentile lower limit of beta\n",
    "    f_b_up1=interp1d(b_summary[:,0],b_summary[:,4])              # 68%-percentile upper limit of beta\n",
    "    f_b_low2=interp1d(b_summary[:,0],b_summary[:,5])             # 95%-percentile lower limit of beta\n",
    "    f_b_up2=interp1d(b_summary[:,0],b_summary[:,6])              # 95%-percentile upper limit of beta\n",
    "    return f_P_NotSignificant(np.sqrt(2*IOI)), f_b_median(np.sqrt(2*IOI)), f_b_low1(np.sqrt(2*IOI)), \\\n",
    "                 f_b_up1(np.sqrt(2*IOI)), f_b_low2(np.sqrt(2*IOI)), f_b_up2(np.sqrt(2*IOI))\n",
    "\n",
    "# Below is to define the ranking scheme\n",
    "def print_ranking(median, low1, up1):\n",
    "    zones = [4, 5]   # This is quite abitrary, specify another if find more adequate.\n",
    "    if median+up1<zones[0]:\n",
    "        print(\"Moderate inconsistency\")\n",
    "    elif median+low1>zones[1]:\n",
    "        print(\"Very strong inconsistency\")\n",
    "    elif median+low1<zones[0] and median+up1>zones[1]:\n",
    "        print(\"Strong inconsistency\")\n",
    "    elif median+low1<zones[0] and median+up1>zones[0]:\n",
    "        print(\"Moderate-to-strong inconsistency\")\n",
    "    elif median+low1>zones[0] and median+up1>zones[0]:\n",
    "        print(\"Strong-to-very strong inconsitency\")\n",
    "    else:\n",
    "        print(\"Ranking Not Defined!\")\n",
    "    "
   ]
  },
  {
   "cell_type": "code",
   "execution_count": 2,
   "metadata": {},
   "outputs": [
    {
     "data": {
      "text/latex": [
       "Probability for $\\beta$>1 given IOI=5.5 is: 95.36%"
      ],
      "text/plain": [
       "<IPython.core.display.Latex object>"
      ]
     },
     "metadata": {},
     "output_type": "display_data"
    },
    {
     "data": {
      "text/latex": [
       "$\\displaystyle \\beta =2.9\\,_{-1.11}^{+ 1.08}~(68\\%)~~\\big[~_{-2.32}^{+ 2.12}~(95\\%)~\\big]$"
      ],
      "text/plain": [
       "<IPython.core.display.Math object>"
      ]
     },
     "metadata": {},
     "output_type": "display_data"
    },
    {
     "name": "stdout",
     "output_type": "stream",
     "text": [
      "Moderate-to-strong inconsistency\n"
     ]
    }
   ],
   "source": [
    "###### Input of the Bayesian Interpretation:\n",
    "N_dim = 3  # number of the common parameters\n",
    "IOI = 5.5  # the obtained value of IOI\n",
    "\n",
    "alpha=0.15  # Suggest to set alpha=0.15\n",
    "###### End of the input\n",
    "    \n",
    "\n",
    "P_bless1, median, low1, up1, low2, up2 = create_summary_stat(IOI,N_dim)\n",
    "display(Latex(\"Probability for $\\\\beta$>1 given IOI=\"+str(round(IOI,2))+\n",
    "              \" is: \"+str(np.round((1-P_bless1)*100,2))+\"%\"))\n",
    "if P_bless1>alpha:\n",
    "    print(\"No strong evidence for a substantial physical inconsistency.\")\n",
    "#else:\n",
    "txt=\"\\\\beta ={0:1.1f}\\,_{{{1:1.2f}}}^{{+{2: 1.2f}}}~(68\\%)~~\\\\big[~_{{{3: 1.2f}}}^{{+{4: .2f}}}~(95\\%)~\\\\big]\"\n",
    "txt=txt.format(median, low1, up1, low2, up2)\n",
    "display(Math(txt))\n",
    "print_ranking(median, low1, up1)        "
   ]
  },
  {
   "cell_type": "code",
   "execution_count": null,
   "metadata": {},
   "outputs": [],
   "source": []
  }
 ],
 "metadata": {
  "kernelspec": {
   "display_name": "Python 3",
   "language": "python",
   "name": "python3"
  },
  "language_info": {
   "codemirror_mode": {
    "name": "ipython",
    "version": 3
   },
   "file_extension": ".py",
   "mimetype": "text/x-python",
   "name": "python",
   "nbconvert_exporter": "python",
   "pygments_lexer": "ipython3",
   "version": "3.8.3"
  }
 },
 "nbformat": 4,
 "nbformat_minor": 4
}
